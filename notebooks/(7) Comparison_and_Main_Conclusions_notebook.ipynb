{
 "cells": [
  {
   "cell_type": "code",
   "execution_count": null,
   "id": "74cacb73-b1bd-4c43-8e1b-73a3bb989300",
   "metadata": {},
   "outputs": [],
   "source": []
  }
 ],
 "metadata": {
  "kernelspec": {
   "display_name": "",
   "name": ""
  },
  "language_info": {
   "name": ""
  }
 },
 "nbformat": 4,
 "nbformat_minor": 5
}
