{
 "cells": [
  {
   "cell_type": "code",
   "execution_count": null,
   "id": "fc293823-3e22-4669-a8e2-1ab2cdd738b3",
   "metadata": {},
   "outputs": [],
   "source": []
  }
 ],
 "metadata": {
  "kernelspec": {
   "display_name": "",
   "name": ""
  },
  "language_info": {
   "name": ""
  }
 },
 "nbformat": 4,
 "nbformat_minor": 5
}
