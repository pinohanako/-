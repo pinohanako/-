{
 "cells": [
  {
   "cell_type": "code",
   "execution_count": null,
   "id": "3245fd17-3b14-43f7-9465-8dea4c13241a",
   "metadata": {},
   "outputs": [],
   "source": []
  }
 ],
 "metadata": {
  "kernelspec": {
   "display_name": "",
   "name": ""
  },
  "language_info": {
   "name": ""
  }
 },
 "nbformat": 4,
 "nbformat_minor": 5
}
