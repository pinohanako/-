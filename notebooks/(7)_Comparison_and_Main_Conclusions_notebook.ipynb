{
  "nbformat": 4,
  "nbformat_minor": 0,
  "metadata": {
    "colab": {
      "provenance": []
    },
    "kernelspec": {
      "name": "python3",
      "display_name": "Python 3"
    },
    "language_info": {
      "name": "python"
    }
  },
  "cells": [
    {
      "cell_type": "markdown",
      "metadata": {
        "id": "BxSCQC5BvxgP"
      },
      "source": [
        "# **Общий вывод**"
      ]
    },
    {
      "cell_type": "code",
      "execution_count": null,
      "metadata": {
        "id": "qiiJ9H87a66J"
      },
      "outputs": [],
      "source": [
        "results = pd.concat([logreg_result, svm_result, dt_result,\n",
        "           rf_result, gbc_result, xgb_result], axis=1).T\n",
        "\n",
        "# Sort the dataframe in descending order based on F1-score values\n",
        "results.sort_values(by='Gini', ascending=False, inplace=True)\n",
        "\n",
        "# Color the F1-score column\n",
        "results.style.applymap(lambda x: 'background-color: royalblue', subset='AUC')"
      ]
    }
  ]
}